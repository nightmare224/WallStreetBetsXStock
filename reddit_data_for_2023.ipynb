{
 "cells": [
  {
   "cell_type": "code",
   "execution_count": 1,
   "id": "7e50fbc7-bd9b-4731-8187-c83efe0ee859",
   "metadata": {},
   "outputs": [
    {
     "name": "stdout",
     "output_type": "stream",
     "text": [
      "Collecting praw\n",
      "  Downloading praw-7.7.1-py3-none-any.whl.metadata (9.8 kB)\n",
      "Collecting prawcore<3,>=2.1 (from praw)\n",
      "  Downloading prawcore-2.4.0-py3-none-any.whl.metadata (5.0 kB)\n",
      "Collecting update-checker>=0.18 (from praw)\n",
      "  Downloading update_checker-0.18.0-py3-none-any.whl (7.0 kB)\n",
      "Requirement already satisfied: websocket-client>=0.54.0 in /opt/homebrew/Caskroom/miniforge/base/envs/swfp/lib/python3.9/site-packages (from praw) (1.6.4)\n",
      "Requirement already satisfied: requests<3.0,>=2.6.0 in /opt/homebrew/Caskroom/miniforge/base/envs/swfp/lib/python3.9/site-packages (from prawcore<3,>=2.1->praw) (2.31.0)\n",
      "Requirement already satisfied: charset-normalizer<4,>=2 in /opt/homebrew/Caskroom/miniforge/base/envs/swfp/lib/python3.9/site-packages (from requests<3.0,>=2.6.0->prawcore<3,>=2.1->praw) (3.3.2)\n",
      "Requirement already satisfied: idna<4,>=2.5 in /opt/homebrew/Caskroom/miniforge/base/envs/swfp/lib/python3.9/site-packages (from requests<3.0,>=2.6.0->prawcore<3,>=2.1->praw) (3.4)\n",
      "Requirement already satisfied: urllib3<3,>=1.21.1 in /opt/homebrew/Caskroom/miniforge/base/envs/swfp/lib/python3.9/site-packages (from requests<3.0,>=2.6.0->prawcore<3,>=2.1->praw) (1.26.18)\n",
      "Requirement already satisfied: certifi>=2017.4.17 in /opt/homebrew/Caskroom/miniforge/base/envs/swfp/lib/python3.9/site-packages (from requests<3.0,>=2.6.0->prawcore<3,>=2.1->praw) (2023.11.17)\n",
      "Downloading praw-7.7.1-py3-none-any.whl (191 kB)\n",
      "\u001b[2K   \u001b[38;2;114;156;31m━━━━━━━━━━━━━━━━━━━━━━━━━━━━━━━━━━━━━━━━\u001b[0m \u001b[32m191.0/191.0 kB\u001b[0m \u001b[31m6.0 MB/s\u001b[0m eta \u001b[36m0:00:00\u001b[0m\n",
      "\u001b[?25hDownloading prawcore-2.4.0-py3-none-any.whl (17 kB)\n",
      "Installing collected packages: update-checker, prawcore, praw\n",
      "Successfully installed praw-7.7.1 prawcore-2.4.0 update-checker-0.18.0\n"
     ]
    }
   ],
   "source": [
    "!pip3 install praw"
   ]
  },
  {
   "cell_type": "code",
   "execution_count": 112,
   "id": "335123c3-d18d-4b90-9f1b-0fb734afcdb4",
   "metadata": {},
   "outputs": [],
   "source": [
    "import pandas as pd\n",
    "from datetime import datetime, timezone"
   ]
  },
  {
   "cell_type": "code",
   "execution_count": 19,
   "id": "0159d4aa-e595-4b15-9f65-bcfa7fff42db",
   "metadata": {},
   "outputs": [],
   "source": [
    "# original data\n",
    "df = pd.read_csv(\"./dataset/reddit_wsb.csv\")"
   ]
  },
  {
   "cell_type": "code",
   "execution_count": 110,
   "id": "7ee2d176-fe1e-4eb6-998d-129bc5013d95",
   "metadata": {},
   "outputs": [],
   "source": [
    "df_new = pd.DataFrame(columns = df.columns)"
   ]
  },
  {
   "cell_type": "code",
   "execution_count": 11,
   "id": "aae0b633-8233-4683-af13-d1a8796cb705",
   "metadata": {},
   "outputs": [],
   "source": [
    "import praw\n",
    "\n",
    "reddit = praw.Reddit(\n",
    "    client_id=\"*****\",\n",
    "    client_secret=\"*****\",\n",
    "    user_agent=\"Mozilla/5.0 (Macintosh; Intel Mac OS X 10_15_7)\",\n",
    ")"
   ]
  },
  {
   "cell_type": "code",
   "execution_count": 70,
   "id": "3a52be62-2d28-440d-85d8-ec1060ba4e31",
   "metadata": {},
   "outputs": [],
   "source": [
    "subreddit = reddit.subreddit(\"wallstreetbets\")"
   ]
  },
  {
   "cell_type": "code",
   "execution_count": 113,
   "id": "000eebca-254b-49eb-a20b-f7543e1876b7",
   "metadata": {},
   "outputs": [],
   "source": [
    "limit = 2000\n",
    "for g in [subreddit.new(limit=limit), subreddit.top(limit=limit), subreddit.hot(limit=limit), subreddit.rising(limit=limit)]:\n",
    "    for submission in g:\n",
    "        data = {\n",
    "            \"title\": submission.title,\n",
    "            \"score\": submission.score,\n",
    "            \"id\": submission.id,\n",
    "            \"url\": submission.url,\n",
    "            \"comms_num\": submission.num_comments,\n",
    "            \"created\": submission.created_utc,\n",
    "            \"body\": submission.selftext,\n",
    "            \"timestamp\": datetime.fromtimestamp(submission.created_utc, timezone.utc).strftime('%Y-%m-%d %H:%M:%S')\n",
    "        }\n",
    "        # df_new.concat(data, ignore_index = True)\n",
    "        df_new.loc[len(df_new)] = data"
   ]
  },
  {
   "cell_type": "code",
   "execution_count": 94,
   "id": "70e7db13-2956-42f2-ad43-38b06eaac1f4",
   "metadata": {},
   "outputs": [
    {
     "data": {
      "text/plain": [
       "{'remaining': 576.0, 'reset_timestamp': 1701886799.027841, 'used': 24}"
      ]
     },
     "execution_count": 94,
     "metadata": {},
     "output_type": "execute_result"
    }
   ],
   "source": [
    "reddit.auth.limits"
   ]
  },
  {
   "cell_type": "code",
   "execution_count": 127,
   "id": "3cd100b9-4e26-40e8-83b6-881be74d3228",
   "metadata": {},
   "outputs": [],
   "source": [
    "df_new = df_new.drop_duplicates([\"id\"], ignore_index = True)\n",
    "# find the data for 2023\n",
    "df_new = df_new[df_new[\"created\"] >= datetime.timestamp(datetime(2023, 1, 1, tzinfo=timezone.utc))].reset_index(drop = True)\n",
    "df_new = df_new.sort_values([\"created\"], ignore_index = True)\n",
    "df_new.to_csv(\"./dataset/reddit_wsb_2023.csv\", index = False)"
   ]
  }
 ],
 "metadata": {
  "kernelspec": {
   "display_name": "Python 3 (ipykernel)",
   "language": "python",
   "name": "python3"
  },
  "language_info": {
   "codemirror_mode": {
    "name": "ipython",
    "version": 3
   },
   "file_extension": ".py",
   "mimetype": "text/x-python",
   "name": "python",
   "nbconvert_exporter": "python",
   "pygments_lexer": "ipython3",
   "version": "3.9.18"
  }
 },
 "nbformat": 4,
 "nbformat_minor": 5
}
