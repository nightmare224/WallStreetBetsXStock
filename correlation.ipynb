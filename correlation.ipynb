{
 "cells": [
  {
   "cell_type": "code",
   "execution_count": 1,
   "id": "76b09ebc-6c9d-413e-8550-1625161e5db9",
   "metadata": {
    "scrolled": true
   },
   "outputs": [
    {
     "name": "stdout",
     "output_type": "stream",
     "text": [
      "Requirement already satisfied: yfinance in /opt/homebrew/Caskroom/miniforge/base/envs/sw/lib/python3.12/site-packages (0.2.33)\n",
      "Requirement already satisfied: pandas>=1.3.0 in /opt/homebrew/Caskroom/miniforge/base/envs/sw/lib/python3.12/site-packages (from yfinance) (2.1.4)\n",
      "Requirement already satisfied: numpy>=1.16.5 in /opt/homebrew/Caskroom/miniforge/base/envs/sw/lib/python3.12/site-packages (from yfinance) (1.26.2)\n",
      "Requirement already satisfied: requests>=2.31 in /opt/homebrew/Caskroom/miniforge/base/envs/sw/lib/python3.12/site-packages (from yfinance) (2.31.0)\n",
      "Requirement already satisfied: multitasking>=0.0.7 in /opt/homebrew/Caskroom/miniforge/base/envs/sw/lib/python3.12/site-packages (from yfinance) (0.0.11)\n",
      "Requirement already satisfied: lxml>=4.9.1 in /opt/homebrew/Caskroom/miniforge/base/envs/sw/lib/python3.12/site-packages (from yfinance) (4.9.3)\n",
      "Requirement already satisfied: appdirs>=1.4.4 in /opt/homebrew/Caskroom/miniforge/base/envs/sw/lib/python3.12/site-packages (from yfinance) (1.4.4)\n",
      "Requirement already satisfied: pytz>=2022.5 in /opt/homebrew/Caskroom/miniforge/base/envs/sw/lib/python3.12/site-packages (from yfinance) (2023.3.post1)\n",
      "Requirement already satisfied: frozendict>=2.3.4 in /opt/homebrew/Caskroom/miniforge/base/envs/sw/lib/python3.12/site-packages (from yfinance) (2.3.10)\n",
      "Requirement already satisfied: peewee>=3.16.2 in /opt/homebrew/Caskroom/miniforge/base/envs/sw/lib/python3.12/site-packages (from yfinance) (3.17.0)\n",
      "Requirement already satisfied: beautifulsoup4>=4.11.1 in /opt/homebrew/Caskroom/miniforge/base/envs/sw/lib/python3.12/site-packages (from yfinance) (4.12.2)\n",
      "Requirement already satisfied: html5lib>=1.1 in /opt/homebrew/Caskroom/miniforge/base/envs/sw/lib/python3.12/site-packages (from yfinance) (1.1)\n",
      "Requirement already satisfied: soupsieve>1.2 in /opt/homebrew/Caskroom/miniforge/base/envs/sw/lib/python3.12/site-packages (from beautifulsoup4>=4.11.1->yfinance) (2.5)\n",
      "Requirement already satisfied: six>=1.9 in /opt/homebrew/Caskroom/miniforge/base/envs/sw/lib/python3.12/site-packages (from html5lib>=1.1->yfinance) (1.16.0)\n",
      "Requirement already satisfied: webencodings in /opt/homebrew/Caskroom/miniforge/base/envs/sw/lib/python3.12/site-packages (from html5lib>=1.1->yfinance) (0.5.1)\n",
      "Requirement already satisfied: python-dateutil>=2.8.2 in /opt/homebrew/Caskroom/miniforge/base/envs/sw/lib/python3.12/site-packages (from pandas>=1.3.0->yfinance) (2.8.2)\n",
      "Requirement already satisfied: tzdata>=2022.1 in /opt/homebrew/Caskroom/miniforge/base/envs/sw/lib/python3.12/site-packages (from pandas>=1.3.0->yfinance) (2023.3)\n",
      "Requirement already satisfied: charset-normalizer<4,>=2 in /opt/homebrew/Caskroom/miniforge/base/envs/sw/lib/python3.12/site-packages (from requests>=2.31->yfinance) (3.3.2)\n",
      "Requirement already satisfied: idna<4,>=2.5 in /opt/homebrew/Caskroom/miniforge/base/envs/sw/lib/python3.12/site-packages (from requests>=2.31->yfinance) (3.6)\n",
      "Requirement already satisfied: urllib3<3,>=1.21.1 in /opt/homebrew/Caskroom/miniforge/base/envs/sw/lib/python3.12/site-packages (from requests>=2.31->yfinance) (2.1.0)\n",
      "Requirement already satisfied: certifi>=2017.4.17 in /opt/homebrew/Caskroom/miniforge/base/envs/sw/lib/python3.12/site-packages (from requests>=2.31->yfinance) (2023.11.17)\n",
      "Requirement already satisfied: scipy in /opt/homebrew/Caskroom/miniforge/base/envs/sw/lib/python3.12/site-packages (1.11.4)\n",
      "Requirement already satisfied: numpy<1.28.0,>=1.21.6 in /opt/homebrew/Caskroom/miniforge/base/envs/sw/lib/python3.12/site-packages (from scipy) (1.26.2)\n",
      "Requirement already satisfied: pandas in /opt/homebrew/Caskroom/miniforge/base/envs/sw/lib/python3.12/site-packages (2.1.4)\n",
      "Requirement already satisfied: numpy<2,>=1.26.0 in /opt/homebrew/Caskroom/miniforge/base/envs/sw/lib/python3.12/site-packages (from pandas) (1.26.2)\n",
      "Requirement already satisfied: python-dateutil>=2.8.2 in /opt/homebrew/Caskroom/miniforge/base/envs/sw/lib/python3.12/site-packages (from pandas) (2.8.2)\n",
      "Requirement already satisfied: pytz>=2020.1 in /opt/homebrew/Caskroom/miniforge/base/envs/sw/lib/python3.12/site-packages (from pandas) (2023.3.post1)\n",
      "Requirement already satisfied: tzdata>=2022.1 in /opt/homebrew/Caskroom/miniforge/base/envs/sw/lib/python3.12/site-packages (from pandas) (2023.3)\n",
      "Requirement already satisfied: six>=1.5 in /opt/homebrew/Caskroom/miniforge/base/envs/sw/lib/python3.12/site-packages (from python-dateutil>=2.8.2->pandas) (1.16.0)\n"
     ]
    }
   ],
   "source": [
    "!pip3 install yfinance\n",
    "!pip3 install scipy\n",
    "!pip3 install pandas"
   ]
  },
  {
   "cell_type": "code",
   "execution_count": 2,
   "id": "7f5393af-aa5e-4ddf-86e9-b097486c03e8",
   "metadata": {},
   "outputs": [],
   "source": [
    "import pandas as pd\n",
    "from datetime import datetime, timedelta\n",
    "from collections import Counter\n",
    "import yfinance as yf\n",
    "import scipy\n",
    "import operator"
   ]
  },
  {
   "cell_type": "code",
   "execution_count": 3,
   "id": "fe481a6e-de32-4f20-95e1-22054fdc055b",
   "metadata": {},
   "outputs": [],
   "source": [
    "datapath = \"dataset/method1_analysis_result_kaggle.csv\"\n",
    "df = pd.read_csv(datapath)"
   ]
  },
  {
   "cell_type": "code",
   "execution_count": 4,
   "id": "f06b46e9-a173-41d5-b318-dfda6276945b",
   "metadata": {},
   "outputs": [],
   "source": [
    "def get_post_freq(timestamps, interval: timedelta, start_time: datetime = None, end_time: datetime = None) -> pd.DataFrame:\n",
    "    datetime_list = [datetime.strptime(time, '%Y-%m-%d %H:%M:%S') for time in sorted(timestamps)] # convert string to datetime\n",
    "    if start_time == None:\n",
    "        start_time = datetime_list[0]\n",
    "    if end_time == None:\n",
    "        end_time = datetime_list[-1] + timedelta(seconds=1)\n",
    "        \n",
    "    datetime_list = [elem for elem in datetime_list if elem >= start_time and elem < end_time] # choose timestamps in the range from start_time to end_time\n",
    "    datetime_list = [(elem - start_time) // interval for elem in datetime_list] # assign each timestamps to each interval\n",
    "    datetime_list = [start_time + interval * elem for elem in datetime_list] # restore the real timestamps of each interval\n",
    "    freq_list = list(Counter(datetime_list).items()) # aggregate timestamps into each interval\n",
    "\n",
    "    if freq_list[-1][0] < end_time - interval: # add end bound\n",
    "        freq_list.append((end_time - interval, 0))\n",
    "    if freq_list[0][0] > start_time: # add start bound\n",
    "        freq_list.insert(0, (start_time, 0))\n",
    "    \n",
    "    for i in range(len(freq_list)-2, -1, -1): # add 0s into the interval between two real records\n",
    "        if freq_list[i + 1][0] - freq_list[i][0] > 2 * interval:\n",
    "            freq_list.insert(i + 1, (freq_list[i + 1][0] - interval, 0))\n",
    "            freq_list.insert(i + 1, (freq_list[i][0] + interval, 0))\n",
    "        elif freq_list[i + 1][0] - freq_list[i][0] == 2 * interval:\n",
    "            freq_list.insert(i + 1, (freq_list[i][0] + interval, 0))\n",
    "    \n",
    "    freq_df = pd.DataFrame(freq_list, columns=[\"timestamp\", \"frequency\"])\n",
    "    return freq_df"
   ]
  },
  {
   "cell_type": "code",
   "execution_count": 5,
   "id": "aa84887c-eb27-4e5c-9518-24e764765891",
   "metadata": {},
   "outputs": [],
   "source": [
    "target_ticker_symbol = \"GME\"\n",
    "df = df[~df[target_ticker_symbol].isna()]\n",
    "df_neutral = df[df[target_ticker_symbol] == 0]\n",
    "df_positive = df[df[target_ticker_symbol] == 1]\n",
    "df_negative = df[df[target_ticker_symbol] == 2]\n",
    "interval = timedelta(days=1)\n",
    "df_freq = get_post_freq(df[\"timestamp\"], interval)\n",
    "df_freq_neutral = get_post_freq(df_neutral[\"timestamp\"], interval)\n",
    "df_freq_positive = get_post_freq(df_positive[\"timestamp\"], interval)\n",
    "df_freq_negative = get_post_freq(df_negative[\"timestamp\"], interval)\n",
    "# get stock price data\n",
    "ticker = yf.Ticker(target_ticker_symbol)\n",
    "start_date = sorted(df[\"timestamp\"])[0].split(\" \")[0]\n",
    "end_date = sorted(df[\"timestamp\"])[-1].split(\" \")[0]\n",
    "end_date = (datetime.strptime(end_date, \"%Y-%m-%d\") + timedelta(days=20)).strftime(\"%Y-%m-%d\")\n",
    "df_stock = ticker.history(start = start_date, end = end_date, interval = \"1d\")"
   ]
  },
  {
   "cell_type": "markdown",
   "id": "6f678157-c272-459d-bf86-161193002fa0",
   "metadata": {},
   "source": [
    "### Get correlation between post frequency and Open Difference/Volume with n shift days"
   ]
  },
  {
   "cell_type": "code",
   "execution_count": 6,
   "id": "2bef77df-07b5-4171-8e41-f60b0729c7a1",
   "metadata": {},
   "outputs": [],
   "source": [
    "# stock_data should contain the data with a timestamp which is 1 interval later than end_time\n",
    "def get_correlation(frequency_data, stock_data, start_time, end_time, mode=\"all\", shift=timedelta(days=0)):\n",
    "    if mode == \"all\":\n",
    "        open_func = abs\n",
    "    elif mode == \"positive\":\n",
    "        open_func = operator.pos\n",
    "    elif mode == \"negative\":\n",
    "        open_func = operator.neg\n",
    "    else:\n",
    "        raise ValueError(\"Wrong mode\")\n",
    "\n",
    "    selected_frequency_data = frequency_data.loc[(frequency_data[\"timestamp\"] >= start_time) & (frequency_data[\"timestamp\"] < end_time)]\n",
    "    selected_stock_data = stock_data.loc[(stock_data.index.tz_localize(None) >= start_time+shift) & (stock_data.index.tz_localize(None) < end_time+shift+(stock_data.index[1]-stock_data.index[0]))]\n",
    "    if len(selected_frequency_data) == 0:\n",
    "        raise ValueError(f\"No freqency data in range of [{start_time+shift}, {end_time+shift})\")\n",
    "    if len(selected_stock_data) == 0:\n",
    "        raise ValueError(f\"No stock data in range of [{start_time+shift}, {end_time+shift})\")\n",
    "    elif len(selected_stock_data) == 1:\n",
    "        raise ValueError(f\"Stock data should contain at least 2 data in range of [{start_time+shift}, {end_time+shift})\")\n",
    "\n",
    "    # due to stock_data has no data during weekend, get a new frequency data\n",
    "    stock_time = [time.date() for time in selected_stock_data.index[:-1]]\n",
    "    new_freq = []\n",
    "    cumulative_freq = 0\n",
    "    i = 0\n",
    "    for time in stock_time:\n",
    "        if i >= len(selected_frequency_data[\"timestamp\"]) or selected_frequency_data[\"timestamp\"].iloc[i].date() > time:\n",
    "            new_freq.append(0)\n",
    "        else:\n",
    "            cumulative_freq += selected_frequency_data[\"frequency\"].iloc[i]\n",
    "            i += 1\n",
    "            while i < len(selected_frequency_data[\"timestamp\"]) and selected_frequency_data[\"timestamp\"].iloc[i].date() <= time:\n",
    "                cumulative_freq += selected_frequency_data[\"frequency\"].iloc[i]\n",
    "                i += 1\n",
    "            new_freq.append(cumulative_freq)\n",
    "            cumulative_freq = 0\n",
    "\n",
    "    # get difference between the next day open and today open\n",
    "    new_open = []\n",
    "    for i in range(0, len(selected_stock_data[\"Open\"])-1):\n",
    "        new_open.append(open_func(df_stock[\"Open\"].iloc[i+1] - df_stock[\"Open\"].iloc[i]))\n",
    "\n",
    "    # calculate correlation\n",
    "    open_correlation = scipy.stats.spearmanr(new_freq, new_open)\n",
    "    volume_correlation = scipy.stats.spearmanr(new_freq, selected_stock_data[\"Volume\"][:-1])\n",
    "\n",
    "    freq_start_time = selected_frequency_data[\"timestamp\"].iloc[0].to_pydatetime()\n",
    "    freq_end_time = selected_frequency_data[\"timestamp\"].iloc[-1].to_pydatetime()\n",
    "    stock_start_time = selected_stock_data.index[0].tz_localize(None).to_pydatetime()\n",
    "    \n",
    "    stock_end_time = selected_stock_data.index[-2].tz_localize(None).to_pydatetime()\n",
    "    \n",
    "    return freq_start_time, freq_end_time, stock_start_time, stock_end_time, open_correlation, volume_correlation"
   ]
  },
  {
   "cell_type": "code",
   "execution_count": 7,
   "id": "6949709f-dce2-46bd-a316-4874b6709dfb",
   "metadata": {},
   "outputs": [],
   "source": [
    "start_time = datetime.strptime(start_date, \"%Y-%m-%d\")\n",
    "end_time = start_time + timedelta(days=20)\n",
    "freq_start_time, freq_end_time, stock_start_time, stock_end_time, open_correlation, volume_correlation = get_correlation(df_freq, df_stock, start_time, end_time, \"all\", timedelta(days=0))"
   ]
  },
  {
   "cell_type": "code",
   "execution_count": 8,
   "id": "856a872f-a68c-48d9-9e50-0657cd2cf141",
   "metadata": {},
   "outputs": [
    {
     "name": "stdout",
     "output_type": "stream",
     "text": [
      "Compare frequency data in time range of [2021-01-28 09:08:18, 2021-02-16 09:08:18] with stock data in range of [2021-01-28 00:00:00, 2021-02-16 00:00:00]\n",
      "The correlation between frequency and Open difference is 0.8406593406593407 with p-value 0.00031907124069371434\n",
      "The correlation between frequency and Volume is 0.7857142857142857 with p-value 0.0014541896038438224\n"
     ]
    }
   ],
   "source": [
    "print(f\"Compare frequency data in time range of [{freq_start_time}, {freq_end_time}] with stock data in range of [{stock_start_time}, {stock_end_time}]\")\n",
    "print(f\"The correlation between frequency and Open difference is {open_correlation[0]} with p-value {open_correlation[1]}\")\n",
    "print(f\"The correlation between frequency and Volume is {volume_correlation[0]} with p-value {volume_correlation[1]}\")"
   ]
  },
  {
   "cell_type": "code",
   "execution_count": 9,
   "id": "8f2690b9-0515-4c1b-b018-93b101b6bfbb",
   "metadata": {},
   "outputs": [],
   "source": [
    "start_time = datetime.strptime(start_date, \"%Y-%m-%d\")\n",
    "end_time = start_time + timedelta(days=20)\n",
    "freq_start_time, freq_end_time, stock_start_time, stock_end_time, open_correlation, volume_correlation = get_correlation(df_freq_positive, df_stock, start_time, end_time, \"positive\", timedelta(days=0))"
   ]
  },
  {
   "cell_type": "code",
   "execution_count": 10,
   "id": "361e2d9f-93b5-4e23-8248-e25749a8ce2e",
   "metadata": {},
   "outputs": [
    {
     "name": "stdout",
     "output_type": "stream",
     "text": [
      "Compare positive frequency data in time range of [2021-01-28 09:08:18, 2021-02-16 09:08:18] with stock data in range of [2021-01-28 00:00:00, 2021-02-16 00:00:00]\n",
      "The correlation between frequency and Open difference is -0.2087912087912088 with p-value 0.493621819356885\n",
      "The correlation between frequency and Volume is 0.7252747252747254 with p-value 0.005023237655349918\n"
     ]
    }
   ],
   "source": [
    "print(f\"Compare positive frequency data in time range of [{freq_start_time}, {freq_end_time}] with stock data in range of [{stock_start_time}, {stock_end_time}]\")\n",
    "print(f\"The correlation between frequency and Open difference is {open_correlation[0]} with p-value {open_correlation[1]}\")\n",
    "print(f\"The correlation between frequency and Volume is {volume_correlation[0]} with p-value {volume_correlation[1]}\")"
   ]
  },
  {
   "cell_type": "code",
   "execution_count": 11,
   "id": "0ed4c323-aa23-4bd6-a95c-5a51a2bcca8e",
   "metadata": {},
   "outputs": [],
   "source": [
    "start_time = datetime.strptime(start_date, \"%Y-%m-%d\")\n",
    "end_time = start_time + timedelta(days=20)\n",
    "freq_start_time, freq_end_time, stock_start_time, stock_end_time, open_correlation, volume_correlation = get_correlation(df_freq_negative, df_stock, start_time, end_time, \"negative\", timedelta(days=0))"
   ]
  },
  {
   "cell_type": "code",
   "execution_count": 12,
   "id": "490c768e-e423-45cc-88ca-b0112eabdb42",
   "metadata": {},
   "outputs": [
    {
     "name": "stdout",
     "output_type": "stream",
     "text": [
      "Compare negative frequency data in time range of [2021-01-28 09:09:21, 2021-02-16 09:09:21] with stock data in range of [2021-01-28 00:00:00, 2021-02-16 00:00:00]\n",
      "The correlation between frequency and Open difference is 0.16483516483516483 with p-value 0.590478988652005\n",
      "The correlation between frequency and Volume is 0.7912087912087913 with p-value 0.0012750239017411194\n"
     ]
    }
   ],
   "source": [
    "print(f\"Compare negative frequency data in time range of [{freq_start_time}, {freq_end_time}] with stock data in range of [{stock_start_time}, {stock_end_time}]\")\n",
    "print(f\"The correlation between frequency and Open difference is {open_correlation[0]} with p-value {open_correlation[1]}\")\n",
    "print(f\"The correlation between frequency and Volume is {volume_correlation[0]} with p-value {volume_correlation[1]}\")"
   ]
  }
 ],
 "metadata": {
  "kernelspec": {
   "display_name": "Python 3 (ipykernel)",
   "language": "python",
   "name": "python3"
  },
  "language_info": {
   "codemirror_mode": {
    "name": "ipython",
    "version": 3
   },
   "file_extension": ".py",
   "mimetype": "text/x-python",
   "name": "python",
   "nbconvert_exporter": "python",
   "pygments_lexer": "ipython3",
   "version": "3.12.0"
  }
 },
 "nbformat": 4,
 "nbformat_minor": 5
}
